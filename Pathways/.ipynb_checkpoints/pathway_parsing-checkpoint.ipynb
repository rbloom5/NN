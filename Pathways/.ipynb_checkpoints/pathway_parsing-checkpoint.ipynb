{
 "metadata": {
  "name": "",
  "signature": "sha256:80c1031f0ee216b272fc25681964bce299ed365df404cb8db0a127c668404a41"
 },
 "nbformat": 3,
 "nbformat_minor": 0,
 "worksheets": []
}