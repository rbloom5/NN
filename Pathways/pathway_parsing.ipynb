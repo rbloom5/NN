{
 "metadata": {
  "name": "",
  "signature": "sha256:ffb05d3fc0b7640c40dab95deb9261dd40aa1f776cd7107d30814d80f7b0e631"
 },
 "nbformat": 3,
 "nbformat_minor": 0,
 "worksheets": [
  {
   "cells": [
    {
     "cell_type": "code",
     "collapsed": false,
     "input": [
      "from collections import defaultdict\n",
      "lowest_level_dict = defaultdict(list)\n",
      "with open('ensembl2reactome.txt') as f:\n",
      "    for line in f:\n",
      "        sep_line = line.strip().split('\\t')\n",
      "        if sep_line[5] == 'Homo sapiens':\n",
      "            lowest_level_dict[sep_line[1]].append(sep_line[0])\n",
      "        \n",
      "lowest_level_dict = dict(lowest_level_dict)    "
     ],
     "language": "python",
     "metadata": {},
     "outputs": [],
     "prompt_number": 4
    },
    {
     "cell_type": "code",
     "collapsed": false,
     "input": [
      "print len(lowest_level_dict.keys())\n"
     ],
     "language": "python",
     "metadata": {},
     "outputs": [
      {
       "output_type": "stream",
       "stream": "stdout",
       "text": [
        "63\n"
       ]
      }
     ],
     "prompt_number": 8
    },
    {
     "cell_type": "code",
     "collapsed": false,
     "input": [
      "import string\n",
      " \n",
      "try:\n",
      "    import xml.etree.cElementTree as ET  # Try to use the C implementation.\n",
      "except ImportError:\n",
      "    import xml.etree.ElementTree as ET   # If unavailable, use the pure Python\n",
      "                                         # implementation.  \n",
      " \n",
      "### First define some helper functions ###\n",
      " \n",
      "# gmt_to_dict() converts the tab-delimited GMT input file to a dictionary object.\n",
      "def gmt_to_dict(infile):\n",
      "    gmtdict = {}           # Start with an empty dictionary.\n",
      " \n",
      "    # Loop through each gene set in the file...\n",
      "    for line in infile:    # For each line (gene set)...\n",
      "        linelist = line.split(\"\\t\")  # Split line words using a tab separator.\n",
      "                                     # The result is a list object.\n",
      " \n",
      "        # The next line looks at the 0th element of linelist (pathway name).\n",
      "        # It filters out all non-printable characters. This is necessary in\n",
      "        # order to prevent a fatal error in the immediate future.\n",
      "        name = filter(lambda x: x in string.printable, linelist[0])\n",
      "        content = linelist[1:len(linelist)]  # Variable 'content' contains everything\n",
      "                                             # except for the pathway name. This\n",
      "                                             # means content[0] is the pathway description,\n",
      "                                             # which is what we'll use as a placeholder\n",
      "                                             # for the hierarchy tree location.\n",
      "        gmtdict[name] = content              # Key 'pathway name' now points to its\n",
      "                                             # content in gmtdict.\n",
      " \n",
      "    return gmtdict\n",
      " \n",
      "# write_dict() writes gmtdict to a tab-delimited file on disk.\n",
      "def write_dict(mydict, outfile):\n",
      "    for entry in mydict.items():  # For every dictionary item (which is a tuple)...\n",
      "        #...write the pathway name (entry 0, type string) and its content (entry 1,\n",
      "        # type list) as a new line to outfile, all separated by tabs.\n",
      "        outfile.write(\"\\t\".join([entry[0], \"\\t\".join(entry[1])]))\n",
      " \n",
      "# update_gmtdict() tries to put tree hierarchy information of a pathway found\n",
      "# in the source XML file into the right location in gmtdict.\n",
      "# Attribute 'node' can be seen as a line from the Reactome XML source.\n",
      "def update_gmtdict(node, hierarchy):\n",
      "    if node.tag == \"Pathway\":               # Ignore Reactions and BlackBoxEvents\n",
      "        # Get current node's displayName attribute. These match 1:1 with gmtdict keys.\n",
      "        s = node.get(\"displayName\").strip() # Also strip any leading and trailing\n",
      "                                            # white spaces.\n",
      "        # Filter out all non-printable characters.\n",
      "        s = filter(lambda x: x in string.printable, s)\n",
      " \n",
      "        # Key may not exist since the XML contains more nodes than there are\n",
      "        # pathways in the GMT:\n",
      "        try:\n",
      "            # Convert the integers in the hierarchy list to strings using the\n",
      "            # map(str, ...) function. Then join them together separated by dots.\n",
      "            # Finally update this pathway's hierarchy, which is the 0th element of\n",
      "            # the list pointed to by key s.\n",
      "            gmtdict[s][0] = \".\".join(map(str, hierarchy))\n",
      "        except KeyError:\n",
      "            pass\n",
      "#             print(\"Info: KeyError - \" + s + \", skipping...\")\n",
      " \n",
      "# walk_xml_node() receives a node from the XML tree and immediately starts\n",
      "# looping through all of its sub-nodes. Its sub-node number is added to the\n",
      "# current hierarchy list which is then used to update the current pathway's\n",
      "# tree location in gmtdict. Then, the function recursively walks all of the\n",
      "# current sub-node's sub-nodes, creating deeper and deeper hierarchies.\n",
      "# Each time this function is called, it receives the node we are investigating,\n",
      "# the current hierarchy list and default sub-node number of 0.\n",
      "def walk_xml_node(node, hierarchy, subnodenr=0):\n",
      "    for element in node:\n",
      "        subnodenr += 1              # For each element, increment subnodenr by 1.\n",
      "        hierarchy.append(subnodenr)          # Add sub-node nr to hierarchy list.\n",
      "        update_gmtdict(element, hierarchy)   # Update pathway info in gmtdict.\n",
      "        walk_xml_node(element, hierarchy)    # Walk sub-node's sub-nodes.\n",
      " \n",
      "    # When we're finished cycling through a set of sub-nodes and the hierarchy\n",
      "    # list contains at least one value, remove the last value from the list.\n",
      "    # This means we're moving up one level in the tree hierarchy.\n",
      "    if len(hierarchy) > 0:\n",
      "        hierarchy.pop()\n",
      " \n",
      "###################### End of helper functions #################################\n",
      "########### This is typically where the fun really starts ######################\n",
      " \n",
      "# gmtinfile points to the location of the unzipped Reactome GMT file on your local disk.\n",
      "gmtinfile = open(\"ReactomePathways.gmt\", \"r\")       # Open file for reading.\n",
      " \n",
      "# gmtoutfile points to the desired location of this script's result file. It will be\n",
      "# basically about the same as gmtinfile, but the description column will contain the\n",
      "# textual representation of each pathway's position in the tree.\n",
      "gmtoutfile = open(\"ReactomePathwaysTree.gmt\", \"w\")  # Open file for writing.\n",
      " \n",
      "# XMLfileloc is the location of the full Homo sapiens data set we obtained through the\n",
      "# RESTful API.\n",
      "XMLfileloc = \"REACTOME_tree.xml\"  # No file handle, just a string.\n",
      " \n",
      "gmtdict = gmt_to_dict(gmtinfile) # Put the GMT source file into a dictionary object.\n",
      "tree = ET.ElementTree(file=XMLfileloc)  # Load the XML tree as a ElementTree object.\n",
      "root = tree.getroot()        # Get the first node element (root) and start from there.\n",
      " \n",
      "# walk_xml_node() is a recursive function which walks through the ElementTree\n",
      "# representation of the XML tree, keeping track of its position in the tree\n",
      "# hierarchy, which is put in a list object.\n",
      "walk_xml_node(root, [])  # Start at the beginning (root) without a hierarchy (empty list).\n",
      "write_dict(gmtdict, gmtoutfile)    # Write gmtdict to a tab-delimited text file on disk.\n",
      " \n",
      "gmtinfile.close      # Close input file handle.\n",
      "gmtoutfile.close()   # Close output file handle."
     ],
     "language": "python",
     "metadata": {},
     "outputs": [],
     "prompt_number": 18
    },
    {
     "cell_type": "code",
     "collapsed": false,
     "input": [
      "gene_list=[]\n",
      "with open('ReactomePathwaysTree.txt') as f:\n",
      "    for line in f:\n",
      "        gene_list=gene_list+line.strip().split('\\t')[2:]\n"
     ],
     "language": "python",
     "metadata": {},
     "outputs": [
      {
       "output_type": "stream",
       "stream": "stdout",
       "text": [
        "75493\n",
        "7855\n"
       ]
      }
     ],
     "prompt_number": 16
    },
    {
     "cell_type": "code",
     "collapsed": false,
     "input": [
      "from collections import Counter\n",
      "level_count=Counter()\n",
      "with open('ReactomePathwaysTree.txt') as f:\n",
      "    for line in f:\n",
      "        index = line.split('\\t')[1].split('.')\n",
      "        level_count[len(index)]+=len(line.split('\\t')[2:])\n",
      "print level_count"
     ],
     "language": "python",
     "metadata": {},
     "outputs": [
      {
       "output_type": "stream",
       "stream": "stdout",
       "text": [
        "Counter({3: 18473, 2: 15899, 4: 15843, 1: 13104, 5: 8051, 6: 2390, 7: 1163, 8: 389, 9: 111, 10: 65, 11: 5})\n"
       ]
      }
     ],
     "prompt_number": 25
    },
    {
     "cell_type": "code",
     "collapsed": false,
     "input": [
      "import numpy as np\n",
      "pathways=0\n",
      "gene_counts = []\n",
      "genes=[]\n",
      "with open('c2.cp.kegg.v5.0.entrez.gmt') as f:\n",
      "    for line in f:\n",
      "        pathways+=1\n",
      "#         print line.strip().split('\\t')[0]\n",
      "        gene_counts.append(len(line.strip().split('\\t'))-2)\n",
      "        genes=genes+line.strip().split('\\t')[2:]\n",
      "# print pathways\n",
      "# print np.mean(np.array(gene_counts))\n",
      "# print len(genes)\n",
      "# print len(list(set(genes)))\n",
      "\n"
     ],
     "language": "python",
     "metadata": {},
     "outputs": [],
     "prompt_number": 16
    },
    {
     "cell_type": "code",
     "collapsed": false,
     "input": [
      "import json\n",
      "from collections import defaultdict\n",
      "new_kegg=[]\n",
      "api_pathways=defaultdict(list)\n",
      "\n",
      "with open('kegg_api.txt') as f:\n",
      "    for line in f:\n",
      "        ids=line.strip().split('\\t')\n",
      "        api_pathways[ids[0]].append(ids[1][4:])\n",
      "api_pathways=dict(api_pathways)\n",
      "\n",
      "outfile=open('kegg_api_dict.txt','wb')\n",
      "json.dump(api_pathways,outfile,indent=1,sort_keys=True)\n"
     ],
     "language": "python",
     "metadata": {},
     "outputs": [],
     "prompt_number": 28
    },
    {
     "cell_type": "code",
     "collapsed": false,
     "input": [
      "import matplotlib.pyplot as plt\n",
      "import seaborn as sns\n",
      "%matplotlib inline\n",
      "\n",
      "lens=[]\n",
      "for path in api_pathways:\n",
      "    lens.append(len(api_pathways[path]))\n",
      "    \n",
      "plt.hist(lens, bins=np.linspace(0, 200, 10))\n",
      "plt.title('histogram of genes per pathway in kegg_api')\n",
      "plt.xlabel('number of genes in pathway')\n",
      "plt.show()"
     ],
     "language": "python",
     "metadata": {},
     "outputs": [
      {
       "metadata": {},
       "output_type": "display_data",
       "png": "[encoded data removed]",
       "text": [
        "<matplotlib.figure.Figure at 0x109e36e10>"
       ]
      }
     ],
     "prompt_number": 27
    },
    {
     "cell_type": "code",
     "collapsed": false,
     "input": [],
     "language": "python",
     "metadata": {},
     "outputs": []
    }
   ],
   "metadata": {}
  }
 ]
}