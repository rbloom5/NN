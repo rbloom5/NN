{
 "metadata": {
  "name": "",
  "signature": "sha256:12dbf6607707af744c135de041fd972fef8ca93c7d7a1c01b30ffb4254a44be0"
 },
 "nbformat": 3,
 "nbformat_minor": 0,
 "worksheets": [
  {
   "cells": [
    {
     "cell_type": "code",
     "collapsed": false,
     "input": [
      "\n",
      "import pybrain\n",
      "# reload(pybrain)\n",
      "# from pybrain.tools.shortcuts import buildNetwork"
     ],
     "language": "python",
     "metadata": {},
     "outputs": [],
     "prompt_number": 1
    },
    {
     "cell_type": "code",
     "collapsed": false,
     "input": [
      "# fnn = buildNetwork( 4, 2, 1 )\n",
      "# fnn.activate([.2, .2, .4, .2])"
     ],
     "language": "python",
     "metadata": {},
     "outputs": [],
     "prompt_number": 2
    },
    {
     "cell_type": "code",
     "collapsed": false,
     "input": [
      "# fnn = buildNetwork( 4, 2, 1 )\n",
      "# fnn.activate([.2, .2, .4, .2])"
     ],
     "language": "python",
     "metadata": {},
     "outputs": [],
     "prompt_number": 3
    },
    {
     "cell_type": "code",
     "collapsed": false,
     "input": [
      "fnn = pybrain.structure.networks.FeedForwardNetwork()\n",
      "inLayer = pybrain.structure.LinearLayer(4)\n",
      "fnn.addInputModule(inLayer)\n",
      "\n",
      "outLayer = pybrain.structure.LinearLayer(1)\n",
      "fnn.addOutputModule(outLayer)\n",
      "\n",
      "hiddenLayer = pybrain.structure.SigmoidLayer(2)\n",
      "fnn.addModule(hiddenLayer)\n",
      "\n",
      "hidden_to_out = pybrain.structure.connections.FullConnection(hiddenLayer,outLayer,indices=[0,1],outdices=[0])\n",
      "fnn.addConnection(hidden_to_out)\n",
      "\n",
      "\n",
      "# fnn.addConnection(pybrain.structure.connections.FullConnection(inLayer,hiddenLayer))#,\\\n",
      "\n",
      "\n",
      "fnn.addConnection(pybrain.structure.connections.FullConnection(inLayer,hiddenLayer,\\\n",
      "                                        inSliceFrom=0, inSliceTo=2, \\\n",
      "                                        outSliceFrom=0, outSliceTo=1, indices=[0,1],outdices=[0]))\n",
      "fnn.addConnection(pybrain.structure.connections.FullConnection(inLayer,hiddenLayer,\\\n",
      "                                        inSliceFrom=2, inSliceTo=4, \\\n",
      "                                        outSliceFrom=1, outSliceTo=2, indices=[2,3],outdices=[1]))\n",
      "\n",
      "fnn.sortModules()"
     ],
     "language": "python",
     "metadata": {},
     "outputs": [],
     "prompt_number": 2
    },
    {
     "cell_type": "code",
     "collapsed": false,
     "input": [
      "fnn.activate([.1, .5, .9, .1])"
     ],
     "language": "python",
     "metadata": {},
     "outputs": [
      {
       "output_type": "stream",
       "stream": "stdout",
       "text": [
        "self.inputbuffer in forward first [[ 0.1  0.5  0.9  0.1]]\n",
        "self.outputbuffer in forward first [[ 0.]]\n",
        "self.inputbuffer in forward first [[ 0.1  0.5  0.9  0.1]]\n",
        "self.outputbuffer in forward first [[ 0.  0.  0.  0.]]\n",
        "self.outputbuffer in forward second [[ 0.1  0.5  0.9  0.1]]\n",
        "old [ 0.]\n",
        "new [ 0.]\n",
        "inbuf [ 0.1  0.5]\n",
        "outbuf [ 0.]\n",
        "new outbuf [ 0.8322853] \n",
        "\n",
        "old second [ 0.8322853]\n",
        "new second [ 0.8322853] \n",
        "\n",
        "old [ 0.]\n",
        "new [ 0.]\n",
        "inbuf [ 0.9  0.1]\n",
        "outbuf [ 0.]\n",
        "new outbuf [-0.25624371] \n",
        "\n",
        "old second [-0.25624371]\n",
        "new second [-0.25624371] \n",
        "\n",
        "self.inputbuffer in forward first [[ 0.8322853  -0.25624371]]\n",
        "self.outputbuffer in forward first [[ 0.  0.]]\n",
        "self.outputbuffer in forward second [[ 0.69683793  0.43628731]]\n",
        "old [ 0.]\n",
        "new [ 0.]\n",
        "inbuf [ 0.69683793  0.43628731]\n",
        "outbuf [ 0.]\n",
        "new outbuf [-0.13443833] \n",
        "\n",
        "old second [-0.13443833]\n",
        "new second [-0.13443833] \n",
        "\n",
        "self.inputbuffer in forward first [[-0.13443833]]\n",
        "self.outputbuffer in forward first [[ 0.]]\n",
        "self.outputbuffer in forward second [[-0.13443833]]\n",
        "self.outputbuffer in forward second [[-0.13443833]]\n"
       ]
      },
      {
       "metadata": {},
       "output_type": "pyout",
       "prompt_number": 3,
       "text": [
        "array([-0.13443833])"
       ]
      }
     ],
     "prompt_number": 3
    },
    {
     "cell_type": "code",
     "collapsed": false,
     "input": [
      "fnn = pybrain.structure.networks.FeedForwardNetwork()\n",
      "inLayer = pybrain.structure.LinearLayer(4)\n",
      "fnn.addInputModule(inLayer)\n",
      "\n",
      "outLayer = pybrain.structure.LinearLayer(1)\n",
      "fnn.addOutputModule(outLayer)\n",
      "\n",
      "hiddenLayer = pybrain.structure.SigmoidLayer(2)\n",
      "fnn.addModule(hiddenLayer)\n",
      "\n",
      "hidden_to_out = pybrain.structure.connections.FullConnection(hiddenLayer,outLayer,indices=[0,1],outdices=[0])\n",
      "fnn.addConnection(hidden_to_out)\n",
      "\n",
      "fnn.addConnection(pybrain.structure.connections.CustomFullConnection(inLayer,hiddenLayer,\\\n",
      "                                        inSliceIndices=[0,2], \\\n",
      "                                        outSliceIndices=[0]))\n",
      "fnn.addConnection(pybrain.structure.connections.CustomFullConnection(inLayer,hiddenLayer,\\\n",
      "                                        inSliceIndices=[1,3], \\\n",
      "                                        outSliceIndices=[1]))\n",
      "\n",
      "fnn.sortModules()\n"
     ],
     "language": "python",
     "metadata": {},
     "outputs": [],
     "prompt_number": 6
    },
    {
     "cell_type": "code",
     "collapsed": false,
     "input": [
      "fnn.activate([.1, .5, .9, .1])"
     ],
     "language": "python",
     "metadata": {},
     "outputs": [
      {
       "output_type": "stream",
       "stream": "stdout",
       "text": [
        "self.inputbuffer in forward first [[ 0.1  0.5  0.9  0.1]]\n",
        "self.outputbuffer in forward first [[ 0.]]\n",
        "self.inputbuffer in forward first [[ 0.1  0.5  0.9  0.1]]\n",
        "self.outputbuffer in forward first [[ 0.  0.  0.  0.]]\n",
        "self.outputbuffer in forward second [[ 0.1  0.5  0.9  0.1]]\n",
        "inbuf [ 0.1  0.9]\n",
        "outbuf [ 0.]\n",
        "new outbuf [ 0.4194563] \n",
        "\n",
        "inbuf [ 0.5  0.1]\n",
        "outbuf [ 0.]\n",
        "new outbuf [ 0.36412374] \n",
        "\n",
        "self.inputbuffer in forward first [[ 0.  0.]]\n",
        "self.outputbuffer in forward first [[ 0.  0.]]\n",
        "self.outputbuffer in forward second [[ 0.5  0.5]]\n",
        "inbuf [ 0.5  0.5]\n",
        "outbuf [ 0.]\n",
        "new outbuf [ 0.75632595] \n",
        "\n",
        "self.inputbuffer in forward first [[ 0.75632595]]\n",
        "self.outputbuffer in forward first [[ 0.]]\n",
        "self.outputbuffer in forward second [[ 0.75632595]]\n",
        "self.outputbuffer in forward second [[ 0.75632595]]\n"
       ]
      },
      {
       "metadata": {},
       "output_type": "pyout",
       "prompt_number": 7,
       "text": [
        "array([ 0.75632595])"
       ]
      }
     ],
     "prompt_number": 7
    },
    {
     "cell_type": "code",
     "collapsed": false,
     "input": [
      "import numpy as np\n",
      "x=[[1,2,3,4,5,6],[4,5,6,7,8,9],[1,2,3,4,5,6],[3,4,5,6,7,8],[9,8,7,6,5,4]]\n",
      "x = np.array(x)\n",
      "print x\n",
      "\n",
      "y=x[1,np.array([2,3])]\n",
      "print type(y)\n",
      "\n",
      "y1 = x[1,2:4]\n",
      "print type(y1)\n"
     ],
     "language": "python",
     "metadata": {},
     "outputs": [
      {
       "output_type": "stream",
       "stream": "stdout",
       "text": [
        "[[1 2 3 4 5 6]\n",
        " [4 5 6 7 8 9]\n",
        " [1 2 3 4 5 6]\n",
        " [3 4 5 6 7 8]\n",
        " [9 8 7 6 5 4]]\n",
        "<type 'numpy.ndarray'>\n",
        "<type 'numpy.ndarray'>\n"
       ]
      }
     ],
     "prompt_number": 14
    },
    {
     "cell_type": "code",
     "collapsed": false,
     "input": [
      "import numpy as np\n",
      "a = np.ones((3,3))\n",
      "b = a[:,1:2]\n",
      "c=a[1,(1,2)]\n",
      "# b += 5\n",
      "print a\n",
      "print b.base is a\n",
      "print c.base is a"
     ],
     "language": "python",
     "metadata": {},
     "outputs": [
      {
       "output_type": "stream",
       "stream": "stdout",
       "text": [
        "[[ 1.  1.  1.]\n",
        " [ 1.  1.  1.]\n",
        " [ 1.  1.  1.]]\n",
        "True\n",
        "False\n"
       ]
      }
     ],
     "prompt_number": 43
    },
    {
     "cell_type": "code",
     "collapsed": false,
     "input": [
      "    print l\n",
      "        x=data.values.T\n",
      "        y=np.array(y)\n",
      "\n",
      "\n",
      "        fulldata = convertDataNeuralNetwork(x, y)\n",
      "        # fulldata._convertToOneOfMany()\n",
      "        # print fulldata\n",
      "\n",
      "        Train, Test = fulldata.splitWithProportion(.8)\n",
      "        Train._convertToOneOfMany()\n",
      "        Test._convertToOneOfMany()\n",
      "\n",
      "\n",
      "        trainer =  pybrain.supervised.trainers.BackpropTrainer(fnn, dataset=Train, verbose=False, \\\n",
      "                                                               learningrate = l, lrdecay = lr, momentum = momentum)\n",
      "\n",
      "\n",
      "        # with open('test_flat_network.txt','w') as f:\n",
      "        #     epochcount = 0\n",
      "        #     while epochcount<maxEpochs:\n",
      "        #         trainer.trainEpochs(epochsperstep)\n",
      "        #         epochcount+=epochsperstep\n",
      "        #         if epochcount%epochsperstep==0:\n",
      "\n",
      "        #             trnresult = percentError( trainer.testOnClassData(),\n",
      "        #                                       Train['class'] )\n",
      "        #             tstresult = percentError( trainer.testOnClassData(\n",
      "        #                    dataset=Test ), Test['class'] )\n",
      "\n",
      "        #             print \"epoch: %4d\" % trainer.totalepochs, \\\n",
      "        #                   \"  train error: %5.2f%%\" % trnresult, \\\n",
      "        #                   \"  test error: %5.2f%%\" % tstresult\n",
      "\n",
      "        #             f.write(str(trainer.totalepochs)+'\\t'+str(trnresult)+'\\t'+str(tstresult)+'\\n')\n",
      "\n",
      "        #             print 'reshuffeling..'\n",
      "        #             Train, Test = fulldata.splitWithProportion(.75)\n",
      "        #             trainer.setData(Train)\n",
      "\n",
      "\n",
      "\n",
      "        with open('test_flat_network.txt','w') as f:\n",
      "            f.write('learning rate='+str(l))\n",
      "            f.write('epoch'+'\\t'+'train error'+'\\t'+'test error'+'\\n')\n",
      "\n",
      "            for i in range(50):\n",
      "                trainer.trainEpochs( 20 )\n",
      "                trnresult = percentError( trainer.testOnClassData(),\n",
      "                                          Train['class'] )\n",
      "                tstresult = percentError( trainer.testOnClassData(\n",
      "                       dataset=Test ), Test['class'] )\n",
      "\n",
      "                print \"epoch: %4d\" % trainer.totalepochs, \\\n",
      "                      \"  train error: %5.2f%%\" % trnresult, \\\n",
      "                      \"  test error: %5.2f%%\" % tstresult\n",
      "                print trnresult\n",
      "                if trnresult<=.05:\n",
      "                    break\n",
      "\n",
      "\n",
      "                f.write(str(trainer.totalepochs)+'\\t'+str(trnresult)+'\\t'+str(tstresult)+'\\n')\n",
      "                # if trainer.totalepochs%40==0:\n",
      "                    # print 'reshuffeling..'\n",
      "                    # Train, Test = fulldata.splitWithProportion(.8)\n",
      "                    # Train._convertToOneOfMany()\n",
      "                    # Test._convertToOneOfMany()\n",
      "                    # trainer.setData(Train)\n",
      "\n",
      "\n",
      "\n",
      "\n",
      "        fnn=build_deep_network(data, pathways)\n",
      "        print fnn\n",
      "\n",
      "        trainer =  pybrain.supervised.trainers.BackpropTrainer(fnn, dataset=Train, verbose=False, \\\n",
      "                                                               learningrate = l, lrdecay = lrdecay, momentum = momentum)\n",
      "\n",
      "\n",
      "\n",
      "        # with open('test_flat_network.txt','w') as f:\n",
      "        #     epochcount = 0\n",
      "        #     while epochcount<maxEpochs:\n",
      "        #         trainer.trainEpochs(epochsperstep)\n",
      "        #         epochcount+=epochsperstep\n",
      "        #         if epochcount%epochsperstep==0:\n",
      "\n",
      "        #             trnresult = percentError( trainer.testOnClassData(),\n",
      "        #                                       Train['class'] )\n",
      "        #             tstresult = percentError( trainer.testOnClassData(\n",
      "        #                    dataset=Test ), Test['class'] )\n",
      "\n",
      "        #             print \"epoch: %4d\" % trainer.totalepochs, \\\n",
      "        #                   \"  train error: %5.2f%%\" % trnresult, \\\n",
      "        #                   \"  test error: %5.2f%%\" % tstresult\n",
      "\n",
      "        #             f.write(str(trainer.totalepochs)+'\\t'+str(trnresult)+'\\t'+str(tstresult)+'\\n')\n",
      "\n",
      "        #             print 'reshuffeling..'\n",
      "        #             Train, Test = fulldata.splitWithProportion(.75)\n",
      "        #             trainer.setData(Train)\n",
      "\n",
      "\n",
      "        with open('test_flat_network.txt','w') as f:\n",
      "            f.write('learning rate='+str(l))\n",
      "            f.write('epoch'+'\\t'+'train error'+'\\t'+'test error'+'\\n')\n",
      "\n",
      "            for i in range(50):\n",
      "                trainer.trainEpochs( 20 )\n",
      "                trnresult = percentError( trainer.testOnClassData(),\n",
      "                                          Train['class'] )\n",
      "                tstresult = percentError( trainer.testOnClassData(\n",
      "                       dataset=Test ), Test['class'] )\n",
      "\n",
      "                print \"epoch: %4d\" % trainer.totalepochs, \\\n",
      "                      \"  train error: %5.2f%%\" % trnresult, \\\n",
      "                      \"  test error: %5.2f%%\" % tstresult\n",
      "                print trnresult\n",
      "                if trnresult<=.05:\n",
      "                    break\n",
      "\n",
      "\n",
      "                f.write(str(trainer.totalepochs)+'\\t'+str(trnresult)+'\\t'+str(tstresult)+'\\n')\n",
      "                # if trainer.totalepochs%40==0:\n",
      "                    # print 'reshuffeling..'\n",
      "                    # Train, Test = fulldata.splitWithProportion(.8)\n",
      "                    # Train._convertToOneOfMany()\n",
      "                    # Test._convertToOneOfMany()\n",
      "                    # trainer.setData(Train)\n",
      "\n",
      "\n"
     ],
     "language": "python",
     "metadata": {},
     "outputs": []
    },
    {
     "cell_type": "code",
     "collapsed": false,
     "input": [
      "foo=100\n",
      "\n",
      "print 101%foo\n"
     ],
     "language": "python",
     "metadata": {},
     "outputs": [
      {
       "output_type": "stream",
       "stream": "stdout",
       "text": [
        "1\n"
       ]
      }
     ],
     "prompt_number": 26
    },
    {
     "cell_type": "code",
     "collapsed": false,
     "input": [],
     "language": "python",
     "metadata": {},
     "outputs": []
    }
   ],
   "metadata": {}
  }
 ]
}