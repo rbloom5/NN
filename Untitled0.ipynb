{
 "metadata": {
  "name": "",
  "signature": "sha256:a95f3a18b6ff0a9aa4bf3684369a0d0104679dec7d78decb8fb5eecaa5073957"
 },
 "nbformat": 3,
 "nbformat_minor": 0,
 "worksheets": [
  {
   "cells": [
    {
     "cell_type": "code",
     "collapsed": false,
     "input": [
      "%load_ext autoreload\n",
      "%autoreload\n",
      "import pybrain\n",
      "\n",
      "from pybrain.tools.shortcuts import buildNetwork"
     ],
     "language": "python",
     "metadata": {},
     "outputs": [],
     "prompt_number": 1
    },
    {
     "cell_type": "code",
     "collapsed": false,
     "input": [
      "fnn = buildNetwork( 4, 2, 1 )\n",
      "fnn.activate([.2, .2, .4, .2])"
     ],
     "language": "python",
     "metadata": {},
     "outputs": [
      {
       "output_type": "stream",
       "stream": "stdout",
       "text": [
        "self.params [ 1.2026165]\n",
        "inbuf [ 1.]\n",
        "outbuf [ 0.]\n",
        "new outbuf [ 1.2026165] \n",
        "\n",
        "self.params [-0.71545615  0.13882654]\n",
        "inbuf [ 1.]\n",
        "outbuf [ 0.  0.]\n",
        "new outbuf [-0.71545615  0.13882654] \n",
        "\n",
        "self.params [ 0.36902323 -0.53992495  0.92380663 -0.91723767 -1.14736412  0.84814837\n",
        "  0.31630671 -0.54851454]\n",
        "inbuf [ 0.2  0.2  0.4  0.2]\n",
        "outbuf [-0.71545615  0.13882654]\n",
        "new outbuf [-0.56356138  0.09580317] \n",
        "\n",
        "self.params [-2.00539251  0.42823883]\n",
        "inbuf [ 0.36272383  0.52393249]\n",
        "outbuf [ 1.2026165]\n",
        "new outbuf [ 0.69958109] \n",
        "\n"
       ]
      },
      {
       "metadata": {},
       "output_type": "pyout",
       "prompt_number": 7,
       "text": [
        "array([ 0.69958109])"
       ]
      }
     ],
     "prompt_number": 7
    },
    {
     "cell_type": "code",
     "collapsed": false,
     "input": [
      "fnn = buildNetwork( 4, 2, 1 )\n",
      "fnn.activate([.2, .2, .4, .2])"
     ],
     "language": "python",
     "metadata": {},
     "outputs": [
      {
       "output_type": "stream",
       "stream": "stdout",
       "text": [
        "called forward\n",
        "self.inputbuffer in forward first [[ 0.2  0.2  0.4  0.2]]\n",
        "self.outputbuffer in forward first [[ 0.]]\n",
        "m.inputbuffer in _forwardImplementation in feedforward [[ 0.2  0.2  0.4  0.2]]\n",
        "inbuf in _forwardImplementation in feedforward [ 0.2  0.2  0.4  0.2]\n",
        "self.modulesSorted in feedforward [<LinearLayer 'in'>, <SigmoidLayer 'hidden0'>, <LinearLayer 'out'>]\n",
        "self.connections in feedfowrad {<LinearLayer 'in'>: [<FullConnection 'FullConnection-12': 'in' -> 'hidden0'>], <LinearLayer 'out'>: [], <SigmoidLayer 'hidden0'>: [<FullConnection 'FullConnection-13': 'hidden0' -> 'out'>]}\n",
        "self.inputbuffer in forward first [[ 0.2  0.2  0.4  0.2]]\n",
        "self.outputbuffer in forward first [[ 0.  0.  0.  0.]]\n",
        "self.inputbuffer in forward [[ 0.2  0.2  0.4  0.2]]\n",
        "self.outputbuffer in forward [[ 0.2  0.2  0.4  0.2]]\n",
        "self.params [-0.49131849 -0.99644056  0.4707941   0.02799049 -1.36614555 -0.05831222\n",
        "  0.91132741  0.02559482]\n",
        "inbuf [ 0.2  0.2  0.4  0.2]\n",
        "outbuf [ 0.  0.]\n",
        "new outbuf [-0.10363607  0.08475838] \n",
        "\n",
        "self.inputbuffer in forward first [[-0.10363607  0.08475838]]\n",
        "self.outputbuffer in forward first [[ 0.  0.]]\n",
        "self.inputbuffer in forward [[-0.10363607  0.08475838]]\n",
        "self.outputbuffer in forward [[ 0.47411415  0.52117692]]\n",
        "self.params [-0.2773875  -0.41760433]\n",
        "inbuf [ 0.47411415  0.52117692]\n",
        "outbuf [ 0.]\n",
        "new outbuf [-0.34915907] \n",
        "\n",
        "self.inputbuffer in forward first [[-0.34915907]]\n",
        "self.outputbuffer in forward first [[ 0.]]\n",
        "self.inputbuffer in forward [[-0.34915907]]\n",
        "self.outputbuffer in forward [[-0.34915907]]\n",
        "self.inputbuffer in forward [[ 0.2  0.2  0.4  0.2]]\n",
        "self.outputbuffer in forward [[-0.34915907]]\n"
       ]
      },
      {
       "metadata": {},
       "output_type": "pyout",
       "prompt_number": 4,
       "text": [
        "array([-0.34915907])"
       ]
      }
     ],
     "prompt_number": 4
    },
    {
     "cell_type": "code",
     "collapsed": false,
     "input": [
      "fnn = pybrain.structure.networks.FeedForwardNetwork()\n",
      "inLayer = pybrain.structure.LinearLayer(4)\n",
      "fnn.addInputModule(inLayer)\n",
      "\n",
      "outLayer = pybrain.structure.LinearLayer(1)\n",
      "fnn.addOutputModule(outLayer)\n",
      "\n",
      "hiddenLayer = pybrain.structure.SigmoidLayer(2)\n",
      "fnn.addModule(hiddenLayer)\n",
      "\n",
      "hidden_to_out = pybrain.structure.connections.FullConnection(hiddenLayer,outLayer)\n",
      "fnn.addConnection(hidden_to_out)\n",
      "\n",
      "fnn.addConnection(pybrain.structure.connections.FullConnection(inLayer,hiddenLayer,\\\n",
      "                                        inSliceFrom=0, inSliceTo=1, \\\n",
      "                                        outSliceFrom=0, outSliceTo=1))\n",
      "fnn.addConnection(pybrain.structure.connections.FullConnection(inLayer,hiddenLayer,\\\n",
      "                                        inSliceFrom=1, inSliceTo=4, \\\n",
      "                                        outSliceFrom=1, outSliceTo=2))\n",
      "\n",
      "fnn.sortModules()"
     ],
     "language": "python",
     "metadata": {},
     "outputs": [],
     "prompt_number": 2
    },
    {
     "cell_type": "code",
     "collapsed": false,
     "input": [
      "fnn.activate([.2, .2, .4, .2])"
     ],
     "language": "python",
     "metadata": {},
     "outputs": [
      {
       "output_type": "stream",
       "stream": "stdout",
       "text": [
        "called forward\n",
        "self.inputbuffer in forward first [[ 0.2  0.2  0.4  0.2]]\n",
        "self.outputbuffer in forward first [[ 0.]]\n",
        "m.inputbuffer in _forwardImplementation in feedforward [[ 0.2  0.2  0.4  0.2]]\n",
        "inbuf in _forwardImplementation in feedforward [ 0.2  0.2  0.4  0.2]\n",
        "self.modulesSorted in feedforward [<LinearLayer 'LinearLayer-18'>, <SigmoidLayer 'SigmoidLayer-23'>, <LinearLayer 'LinearLayer-24'>]\n",
        "self.connections in feedfowrad {<SigmoidLayer 'SigmoidLayer-23'>: [<FullConnection 'FullConnection-19': 'SigmoidLayer-23' -> 'LinearLayer-24'>], <LinearLayer 'LinearLayer-18'>: [<FullConnection 'FullConnection-20': 'LinearLayer-18' -> 'SigmoidLayer-23'>, <FullConnection 'FullConnection-21': 'LinearLayer-18' -> 'SigmoidLayer-23'>], <LinearLayer 'LinearLayer-24'>: []}\n",
        "self.inputbuffer in forward first [[ 0.2  0.2  0.4  0.2]]\n",
        "self.outputbuffer in forward first [[ 0.  0.  0.  0.]]\n",
        "self.inputbuffer in forward [[ 0.2  0.2  0.4  0.2]]\n",
        "self.outputbuffer in forward [[ 0.2  0.2  0.4  0.2]]\n",
        "self.params [-0.12853889]\n",
        "inbuf [ 0.2]\n",
        "outbuf [ 0.]\n",
        "new outbuf [-0.02570778] \n",
        "\n",
        "self.params [ 0.8097143  -0.01398274  0.12741858]\n",
        "inbuf [ 0.2  0.4  0.2]\n",
        "outbuf [ 0.]\n",
        "new outbuf [ 0.18183348] \n",
        "\n",
        "self.inputbuffer in forward first [[-0.02570778  0.18183348]]\n",
        "self.outputbuffer in forward first [[ 0.  0.]]\n",
        "self.inputbuffer in forward [[-0.02570778  0.18183348]]\n",
        "self.outputbuffer in forward [[ 0.49357341  0.54533353]]\n",
        "self.params [-1.40249776  1.36389322]\n",
        "inbuf [ 0.49357341  0.54533353]\n",
        "outbuf [ 0.]\n",
        "new outbuf [ 0.05154111] \n",
        "\n",
        "self.inputbuffer in forward first [[ 0.05154111]]\n",
        "self.outputbuffer in forward first [[ 0.]]\n",
        "self.inputbuffer in forward [[ 0.05154111]]\n",
        "self.outputbuffer in forward [[ 0.05154111]]\n",
        "self.inputbuffer in forward [[ 0.2  0.2  0.4  0.2]]\n",
        "self.outputbuffer in forward [[ 0.05154111]]\n"
       ]
      },
      {
       "metadata": {},
       "output_type": "pyout",
       "prompt_number": 6,
       "text": [
        "array([ 0.05154111])"
       ]
      }
     ],
     "prompt_number": 6
    },
    {
     "cell_type": "code",
     "collapsed": false,
     "input": [
      "fnn = pybrain.structure.networks.FeedForwardNetwork()\n",
      "inLayer = pybrain.structure.LinearLayer(4)\n",
      "fnn.addInputModule(inLayer)\n",
      "\n",
      "outLayer = pybrain.structure.LinearLayer(1)\n",
      "fnn.addOutputModule(outLayer)\n",
      "\n",
      "hiddenLayer = pybrain.structure.SigmoidLayer(2)\n",
      "fnn.addModule(hiddenLayer)\n",
      "\n",
      "hidden_to_out = pybrain.structure.connections.FullConnection(hiddenLayer,outLayer)\n",
      "fnn.addConnection(hidden_to_out)\n",
      "\n",
      "fnn.addConnection(pybrain.structure.connections.CustomFullConnection(inLayer,hiddenLayer,\\\n",
      "                                        inSliceIndices=[0,2], \\\n",
      "                                        outSliceIndices=[0]))\n",
      "fnn.addConnection(pybrain.structure.connections.CustomFullConnection(inLayer,hiddenLayer,\\\n",
      "                                        inSliceIndices=[1,3], \\\n",
      "                                        outSliceIndices=[1]))\n",
      "\n",
      "fnn.sortModules()\n"
     ],
     "language": "python",
     "metadata": {},
     "outputs": [],
     "prompt_number": 2
    },
    {
     "cell_type": "code",
     "collapsed": false,
     "input": [
      "fnn.activate([.2, .2, .4, .2])"
     ],
     "language": "python",
     "metadata": {},
     "outputs": [
      {
       "metadata": {},
       "output_type": "pyout",
       "prompt_number": 3,
       "text": [
        "array([ 0.36087027])"
       ]
      }
     ],
     "prompt_number": 3
    },
    {
     "cell_type": "code",
     "collapsed": false,
     "input": [],
     "language": "python",
     "metadata": {},
     "outputs": []
    }
   ],
   "metadata": {}
  }
 ]
}