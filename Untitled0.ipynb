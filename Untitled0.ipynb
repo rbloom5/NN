{
 "metadata": {
  "name": "",
  "signature": "sha256:f45f2125b041f81d1da8a116a47b9ef95f29cf49d81c5bab54d3e02a043764e2"
 },
 "nbformat": 3,
 "nbformat_minor": 0,
 "worksheets": [
  {
   "cells": [
    {
     "cell_type": "code",
     "collapsed": false,
     "input": [
      "\n",
      "import pybrain\n",
      "# reload(pybrain)\n",
      "# from pybrain.tools.shortcuts import buildNetwork"
     ],
     "language": "python",
     "metadata": {},
     "outputs": [],
     "prompt_number": 1
    },
    {
     "cell_type": "code",
     "collapsed": false,
     "input": [
      "# fnn = buildNetwork( 4, 2, 1 )\n",
      "# fnn.activate([.2, .2, .4, .2])"
     ],
     "language": "python",
     "metadata": {},
     "outputs": [],
     "prompt_number": 2
    },
    {
     "cell_type": "code",
     "collapsed": false,
     "input": [
      "# fnn = buildNetwork( 4, 2, 1 )\n",
      "# fnn.activate([.2, .2, .4, .2])"
     ],
     "language": "python",
     "metadata": {},
     "outputs": [],
     "prompt_number": 3
    },
    {
     "cell_type": "code",
     "collapsed": false,
     "input": [
      "fnn = pybrain.structure.networks.FeedForwardNetwork()\n",
      "inLayer = pybrain.structure.LinearLayer(4)\n",
      "fnn.addInputModule(inLayer)\n",
      "\n",
      "outLayer = pybrain.structure.LinearLayer(1)\n",
      "fnn.addOutputModule(outLayer)\n",
      "\n",
      "hiddenLayer = pybrain.structure.SigmoidLayer(2)\n",
      "fnn.addModule(hiddenLayer)\n",
      "\n",
      "hidden_to_out = pybrain.structure.connections.FullConnection(hiddenLayer,outLayer,indices=[0,1],outdices=[0])\n",
      "fnn.addConnection(hidden_to_out)\n",
      "\n",
      "\n",
      "# fnn.addConnection(pybrain.structure.connections.FullConnection(inLayer,hiddenLayer))#,\\\n",
      "\n",
      "\n",
      "fnn.addConnection(pybrain.structure.connections.FullConnection(inLayer,hiddenLayer,\\\n",
      "                                        inSliceFrom=0, inSliceTo=2, \\\n",
      "                                        outSliceFrom=0, outSliceTo=1, indices=[0,1],outdices=[0]))\n",
      "fnn.addConnection(pybrain.structure.connections.FullConnection(inLayer,hiddenLayer,\\\n",
      "                                        inSliceFrom=2, inSliceTo=4, \\\n",
      "                                        outSliceFrom=1, outSliceTo=2, indices=[2,3],outdices=[1]))\n",
      "\n",
      "fnn.sortModules()"
     ],
     "language": "python",
     "metadata": {},
     "outputs": [],
     "prompt_number": 2
    },
    {
     "cell_type": "code",
     "collapsed": false,
     "input": [
      "fnn.activate([.1, .5, .9, .1])"
     ],
     "language": "python",
     "metadata": {},
     "outputs": [
      {
       "output_type": "stream",
       "stream": "stdout",
       "text": [
        "self.inputbuffer in forward first [[ 0.1  0.5  0.9  0.1]]\n",
        "self.outputbuffer in forward first [[ 0.]]\n",
        "self.inputbuffer in forward first [[ 0.1  0.5  0.9  0.1]]\n",
        "self.outputbuffer in forward first [[ 0.  0.  0.  0.]]\n",
        "self.outputbuffer in forward second [[ 0.1  0.5  0.9  0.1]]\n",
        "old [ 0.]\n",
        "new [ 0.]\n",
        "inbuf [ 0.1  0.5]\n",
        "outbuf [ 0.]\n",
        "new outbuf [ 0.8322853] \n",
        "\n",
        "old second [ 0.8322853]\n",
        "new second [ 0.8322853] \n",
        "\n",
        "old [ 0.]\n",
        "new [ 0.]\n",
        "inbuf [ 0.9  0.1]\n",
        "outbuf [ 0.]\n",
        "new outbuf [-0.25624371] \n",
        "\n",
        "old second [-0.25624371]\n",
        "new second [-0.25624371] \n",
        "\n",
        "self.inputbuffer in forward first [[ 0.8322853  -0.25624371]]\n",
        "self.outputbuffer in forward first [[ 0.  0.]]\n",
        "self.outputbuffer in forward second [[ 0.69683793  0.43628731]]\n",
        "old [ 0.]\n",
        "new [ 0.]\n",
        "inbuf [ 0.69683793  0.43628731]\n",
        "outbuf [ 0.]\n",
        "new outbuf [-0.13443833] \n",
        "\n",
        "old second [-0.13443833]\n",
        "new second [-0.13443833] \n",
        "\n",
        "self.inputbuffer in forward first [[-0.13443833]]\n",
        "self.outputbuffer in forward first [[ 0.]]\n",
        "self.outputbuffer in forward second [[-0.13443833]]\n",
        "self.outputbuffer in forward second [[-0.13443833]]\n"
       ]
      },
      {
       "metadata": {},
       "output_type": "pyout",
       "prompt_number": 3,
       "text": [
        "array([-0.13443833])"
       ]
      }
     ],
     "prompt_number": 3
    },
    {
     "cell_type": "code",
     "collapsed": false,
     "input": [
      "fnn = pybrain.structure.networks.FeedForwardNetwork()\n",
      "inLayer = pybrain.structure.LinearLayer(4)\n",
      "fnn.addInputModule(inLayer)\n",
      "\n",
      "outLayer = pybrain.structure.LinearLayer(1)\n",
      "fnn.addOutputModule(outLayer)\n",
      "\n",
      "hiddenLayer = pybrain.structure.SigmoidLayer(2)\n",
      "fnn.addModule(hiddenLayer)\n",
      "\n",
      "hidden_to_out = pybrain.structure.connections.FullConnection(hiddenLayer,outLayer,indices=[0,1],outdices=[0])\n",
      "fnn.addConnection(hidden_to_out)\n",
      "\n",
      "fnn.addConnection(pybrain.structure.connections.CustomFullConnection(inLayer,hiddenLayer,\\\n",
      "                                        inSliceIndices=[0,2], \\\n",
      "                                        outSliceIndices=[0]))\n",
      "fnn.addConnection(pybrain.structure.connections.CustomFullConnection(inLayer,hiddenLayer,\\\n",
      "                                        inSliceIndices=[1,3], \\\n",
      "                                        outSliceIndices=[1]))\n",
      "\n",
      "fnn.sortModules()\n"
     ],
     "language": "python",
     "metadata": {},
     "outputs": [],
     "prompt_number": 6
    },
    {
     "cell_type": "code",
     "collapsed": false,
     "input": [
      "fnn.activate([.1, .5, .9, .1])"
     ],
     "language": "python",
     "metadata": {},
     "outputs": [
      {
       "output_type": "stream",
       "stream": "stdout",
       "text": [
        "self.inputbuffer in forward first [[ 0.1  0.5  0.9  0.1]]\n",
        "self.outputbuffer in forward first [[ 0.]]\n",
        "self.inputbuffer in forward first [[ 0.1  0.5  0.9  0.1]]\n",
        "self.outputbuffer in forward first [[ 0.  0.  0.  0.]]\n",
        "self.outputbuffer in forward second [[ 0.1  0.5  0.9  0.1]]\n",
        "inbuf [ 0.1  0.9]\n",
        "outbuf [ 0.]\n",
        "new outbuf [ 0.4194563] \n",
        "\n",
        "inbuf [ 0.5  0.1]\n",
        "outbuf [ 0.]\n",
        "new outbuf [ 0.36412374] \n",
        "\n",
        "self.inputbuffer in forward first [[ 0.  0.]]\n",
        "self.outputbuffer in forward first [[ 0.  0.]]\n",
        "self.outputbuffer in forward second [[ 0.5  0.5]]\n",
        "inbuf [ 0.5  0.5]\n",
        "outbuf [ 0.]\n",
        "new outbuf [ 0.75632595] \n",
        "\n",
        "self.inputbuffer in forward first [[ 0.75632595]]\n",
        "self.outputbuffer in forward first [[ 0.]]\n",
        "self.outputbuffer in forward second [[ 0.75632595]]\n",
        "self.outputbuffer in forward second [[ 0.75632595]]\n"
       ]
      },
      {
       "metadata": {},
       "output_type": "pyout",
       "prompt_number": 7,
       "text": [
        "array([ 0.75632595])"
       ]
      }
     ],
     "prompt_number": 7
    },
    {
     "cell_type": "code",
     "collapsed": false,
     "input": [
      "import numpy as np\n",
      "x=[[1,2,3,4,5,6],[4,5,6,7,8,9],[1,2,3,4,5,6],[3,4,5,6,7,8],[9,8,7,6,5,4]]\n",
      "x = np.array(x)\n",
      "print x\n",
      "\n",
      "y=x[1,np.array([2,3])]\n",
      "print type(y)\n",
      "\n",
      "y1 = x[1,2:4]\n",
      "print type(y1)\n"
     ],
     "language": "python",
     "metadata": {},
     "outputs": [
      {
       "output_type": "stream",
       "stream": "stdout",
       "text": [
        "[[1 2 3 4 5 6]\n",
        " [4 5 6 7 8 9]\n",
        " [1 2 3 4 5 6]\n",
        " [3 4 5 6 7 8]\n",
        " [9 8 7 6 5 4]]\n",
        "<type 'numpy.ndarray'>\n",
        "<type 'numpy.ndarray'>\n"
       ]
      }
     ],
     "prompt_number": 14
    },
    {
     "cell_type": "code",
     "collapsed": false,
     "input": [
      "import numpy as np\n",
      "a = np.ones((3,3))\n",
      "b = a[:,(1,2)]\n",
      "b += 5\n",
      "print a\n",
      "print b.base is a"
     ],
     "language": "python",
     "metadata": {},
     "outputs": [
      {
       "output_type": "stream",
       "stream": "stdout",
       "text": [
        "[[ 1.  1.  1.]\n",
        " [ 1.  1.  1.]\n",
        " [ 1.  1.  1.]]\n",
        "False\n"
       ]
      }
     ],
     "prompt_number": 22
    },
    {
     "cell_type": "code",
     "collapsed": false,
     "input": [],
     "language": "python",
     "metadata": {},
     "outputs": []
    }
   ],
   "metadata": {}
  }
 ]
}