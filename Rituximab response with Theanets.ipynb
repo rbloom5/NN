{
 "metadata": {
  "name": "",
  "signature": "sha256:d4f6fdddb64762ae0014345c118e8a6f6adad3b956b2b4d155b5bac4676b6df5"
 },
 "nbformat": 3,
 "nbformat_minor": 0,
 "worksheets": [
  {
   "cells": [
    {
     "cell_type": "code",
     "collapsed": false,
     "input": [
      "import theanets\n",
      "reload(theanets)\n",
      "# import skdata.mnist\n",
      "import numpy as np\n",
      "# from pylab import ion, ioff, figure, draw, contourf, clf, show, hold, plot\n",
      "from scipy import diag, arange, meshgrid, where\n",
      "from numpy.random import multivariate_normal\n",
      "\n",
      "\n",
      "import json\n",
      "import pandas as pd\n",
      "import json\n",
      "from collections import defaultdict\n",
      "import numpy as np\n",
      "\n",
      "import sys\n",
      "from random import shuffle\n",
      "import pickle\n",
      "\n",
      "from NNfunctions import *\n",
      "import CleanMetadata"
     ],
     "language": "python",
     "metadata": {},
     "outputs": [],
     "prompt_number": 1
    },
    {
     "cell_type": "code",
     "collapsed": false,
     "input": [
      "\n"
     ],
     "language": "python",
     "metadata": {},
     "outputs": [],
     "prompt_number": 1
    },
    {
     "cell_type": "code",
     "collapsed": false,
     "input": [
      "def make_mask(data, pathways):\n",
      "    genes = data.index.values.tolist()\n",
      "    path_names = pathways.keys()\n",
      "    \n",
      "    #entrez_dict maps entrez ID's to the index of the node it corresponds to\n",
      "    entrez_dict = {}\n",
      "    for i, entrez in enumerate(genes):\n",
      "        entrez_dict[entrez] = i\n",
      "    \n",
      "    #pathway_dict maps pathway ID's to the index of node it corresponds to\n",
      "    pathway_dict={}\n",
      "    for i, path in enumerate(path_names):\n",
      "        pathway_dict[path]=i\n",
      "    \n",
      "    #now we set up the mask\n",
      "    mask = np.zeros([len(genes),len(path_names)]).astype('f')\n",
      "    for path in path_names:\n",
      "        for gene in pathways[path]:\n",
      "            mask[entrez_dict[gene],pathway_dict[path]]=1\n",
      "            \n",
      "    return mask.astype('f')\n",
      "\n",
      "# mask = make_mask(data,pathways)\n"
     ],
     "language": "python",
     "metadata": {},
     "outputs": [],
     "prompt_number": 2
    },
    {
     "cell_type": "code",
     "collapsed": false,
     "input": [
      "tnfa_raw, y = CleanMetadata.slice_and_clean()\n",
      "inds = [str(i) for i in tnfa_raw.index.values.tolist()]\n",
      "tnfa_raw.index = inds\n",
      "\n",
      "pathways = get_pathway_dict('pathways/kegg_api.txt',tnfa_raw)\n",
      "data = sync_data_pathways(tnfa_raw,pathways)\n",
      "\n",
      "mask = make_mask(data,pathways)\n",
      "\n",
      "#prep data\n",
      "x=data.values.T.astype('f')\n",
      "y=np.array(y).astype(np.uint8)\n",
      "xtrain, xtest, ytrain, ytest = shuffle_split(x,y)\n",
      "\n",
      "train = (xtrain, ytrain)\n",
      "valid = (xtest, ytest)\n",
      "print valid[1].sum()/float(valid[1].shape[0])\n",
      "print valid[1].shape\n",
      "# print train[0].shape\n",
      "# print train[1].shape\n",
      "# print valid[0].shape\n",
      "# print valid[1].shape\n",
      "# print mask.shape\n",
      "# print len(pathways)\n",
      "\n",
      "# #Theanets\n",
      "# mask=np.ones([x.shape[1],len(pathways)])\n",
      "# exp = theanets.Experiment(\n",
      "#     theanets.Classifier,\n",
      "#     layers=(x.shape[1], dict(size=len(pathways),form='CustomFeedforward',mask=mask),10, (2, 'softmax')))\n",
      "\n",
      "exp = theanets.Experiment(\n",
      "    theanets.Classifier,\n",
      "    layers=(x.shape[1],100,(2,'softmax')))\n",
      "            \n",
      "exp.train(train,\n",
      "          valid,\n",
      "          algorithm='sgd',\n",
      "          learning_rate=.001,\n",
      "          momentum=0.5\n",
      "          )"
     ],
     "language": "python",
     "metadata": {},
     "outputs": [
      {
       "output_type": "stream",
       "stream": "stdout",
       "text": [
        "295\n",
        "295\n",
        "0.428571428571"
       ]
      },
      {
       "output_type": "stream",
       "stream": "stdout",
       "text": [
        "\n",
        "(42,)\n",
        "iteration:"
       ]
      },
      {
       "output_type": "stream",
       "stream": "stdout",
       "text": [
        " 10\n",
        "training score 0.65\n",
        "validation score 0.5 \n",
        "\n",
        "iteration:"
       ]
      },
      {
       "output_type": "stream",
       "stream": "stdout",
       "text": [
        " 20\n",
        "training score 0.65\n",
        "validation score 0.5 \n",
        "\n",
        "iteration:"
       ]
      },
      {
       "output_type": "stream",
       "stream": "stdout",
       "text": [
        " 30\n",
        "training score 0.65\n",
        "validation score 0.5 \n",
        "\n",
        "iteration:"
       ]
      },
      {
       "output_type": "stream",
       "stream": "stdout",
       "text": [
        " 40\n",
        "training score 0.65\n",
        "validation score 0.5 \n",
        "\n",
        "iteration:"
       ]
      },
      {
       "output_type": "stream",
       "stream": "stdout",
       "text": [
        " 50\n",
        "training score 0.65\n",
        "validation score 0.5 \n",
        "\n",
        "iteration:"
       ]
      },
      {
       "output_type": "stream",
       "stream": "stdout",
       "text": [
        " 60\n",
        "training score 0.65\n",
        "validation score 0.5 \n",
        "\n",
        "iteration:"
       ]
      },
      {
       "output_type": "stream",
       "stream": "stdout",
       "text": [
        " 70\n",
        "training score 0.65\n",
        "validation score 0.5 \n",
        "\n",
        "iteration:"
       ]
      },
      {
       "output_type": "stream",
       "stream": "stdout",
       "text": [
        " 80\n",
        "training score 0.65\n",
        "validation score 0.5 \n",
        "\n",
        "iteration:"
       ]
      },
      {
       "output_type": "stream",
       "stream": "stdout",
       "text": [
        " 90\n",
        "training score 0.65\n",
        "validation score 0.5 \n",
        "\n",
        "iteration:"
       ]
      },
      {
       "output_type": "stream",
       "stream": "stdout",
       "text": [
        " 100\n",
        "training score 0.65\n",
        "validation score 0.5 \n",
        "\n",
        "iteration:"
       ]
      },
      {
       "output_type": "stream",
       "stream": "stdout",
       "text": [
        " 110\n",
        "training score 0.65\n",
        "validation score 0.5 \n",
        "\n",
        "iteration:"
       ]
      },
      {
       "output_type": "stream",
       "stream": "stdout",
       "text": [
        " 120\n",
        "training score 0.65\n",
        "validation score 0.5 \n",
        "\n",
        "iteration:"
       ]
      },
      {
       "output_type": "stream",
       "stream": "stdout",
       "text": [
        " 130\n",
        "training score 0.65625\n",
        "validation score 0.5 \n",
        "\n",
        "iteration:"
       ]
      },
      {
       "output_type": "stream",
       "stream": "stdout",
       "text": [
        " 140\n",
        "training score 0.65625\n",
        "validation score 0.5 \n",
        "\n",
        "iteration:"
       ]
      },
      {
       "output_type": "stream",
       "stream": "stdout",
       "text": [
        " 150\n",
        "training score 0.65625\n",
        "validation score 0.5 \n",
        "\n",
        "iteration:"
       ]
      },
      {
       "output_type": "stream",
       "stream": "stdout",
       "text": [
        " 160\n",
        "training score 0.675\n",
        "validation score 0.5 \n",
        "\n",
        "iteration:"
       ]
      },
      {
       "output_type": "stream",
       "stream": "stdout",
       "text": [
        " 170\n",
        "training score 0.68125\n",
        "validation score 0.5 \n",
        "\n",
        "iteration:"
       ]
      },
      {
       "output_type": "stream",
       "stream": "stdout",
       "text": [
        " 180\n",
        "training score 0.675\n",
        "validation score 0.5 \n",
        "\n",
        "iteration:"
       ]
      },
      {
       "output_type": "stream",
       "stream": "stdout",
       "text": [
        " 190\n",
        "training score 0.70625\n",
        "validation score 0.5 \n",
        "\n",
        "iteration:"
       ]
      },
      {
       "output_type": "stream",
       "stream": "stdout",
       "text": [
        " 200\n",
        "training score 0.7125\n",
        "validation score 0.46875 \n",
        "\n",
        "iteration:"
       ]
      },
      {
       "output_type": "stream",
       "stream": "stdout",
       "text": [
        " 210\n",
        "training score 0.725\n",
        "validation score 0.40625 \n",
        "\n",
        "iteration:"
       ]
      },
      {
       "output_type": "stream",
       "stream": "stdout",
       "text": [
        " 220\n",
        "training score 0.71875\n",
        "validation score 0.4375 \n",
        "\n",
        "iteration:"
       ]
      },
      {
       "output_type": "stream",
       "stream": "stdout",
       "text": [
        " 230\n",
        "training score 0.7625\n",
        "validation score 0.40625 \n",
        "\n",
        "iteration:"
       ]
      },
      {
       "output_type": "stream",
       "stream": "stdout",
       "text": [
        " 240\n",
        "training score 0.775\n",
        "validation score 0.40625 \n",
        "\n",
        "iteration:"
       ]
      },
      {
       "output_type": "stream",
       "stream": "stdout",
       "text": [
        " 250\n",
        "training score 0.76875\n",
        "validation score 0.40625 \n",
        "\n",
        "iteration:"
       ]
      },
      {
       "output_type": "stream",
       "stream": "stdout",
       "text": [
        " 260\n",
        "training score 0.8\n",
        "validation score 0.40625 \n",
        "\n",
        "iteration:"
       ]
      },
      {
       "output_type": "stream",
       "stream": "stdout",
       "text": [
        " 270\n",
        "training score 0.79375\n",
        "validation score 0.40625 \n",
        "\n",
        "iteration:"
       ]
      },
      {
       "output_type": "stream",
       "stream": "stdout",
       "text": [
        " 280\n",
        "training score 0.8\n",
        "validation score 0.40625 \n",
        "\n",
        "iteration:"
       ]
      },
      {
       "output_type": "stream",
       "stream": "stdout",
       "text": [
        " 290\n",
        "training score 0.80625\n",
        "validation score 0.375 \n",
        "\n",
        "iteration:"
       ]
      },
      {
       "output_type": "stream",
       "stream": "stdout",
       "text": [
        " 300\n",
        "training score 0.8375\n",
        "validation score 0.34375 \n",
        "\n",
        "iteration:"
       ]
      },
      {
       "output_type": "stream",
       "stream": "stdout",
       "text": [
        " 310\n",
        "training score 0.85625\n",
        "validation score 0.375 \n",
        "\n",
        "iteration:"
       ]
      },
      {
       "output_type": "stream",
       "stream": "stdout",
       "text": [
        " 320\n",
        "training score 0.84375\n",
        "validation score 0.375 \n",
        "\n",
        "iteration:"
       ]
      },
      {
       "output_type": "stream",
       "stream": "stdout",
       "text": [
        " 330\n",
        "training score 0.875\n",
        "validation score 0.34375 \n",
        "\n",
        "iteration:"
       ]
      },
      {
       "output_type": "stream",
       "stream": "stdout",
       "text": [
        " 340\n",
        "training score 0.875\n",
        "validation score 0.34375 \n",
        "\n",
        "iteration:"
       ]
      },
      {
       "output_type": "stream",
       "stream": "stdout",
       "text": [
        " 350\n",
        "training score 0.84375\n",
        "validation score 0.34375 \n",
        "\n",
        "iteration:"
       ]
      },
      {
       "output_type": "stream",
       "stream": "stdout",
       "text": [
        " 360\n",
        "training score 0.89375\n",
        "validation score 0.34375 \n",
        "\n",
        "iteration:"
       ]
      },
      {
       "output_type": "stream",
       "stream": "stdout",
       "text": [
        " 370\n",
        "training score 0.8875\n",
        "validation score 0.375 \n",
        "\n",
        "iteration:"
       ]
      },
      {
       "output_type": "stream",
       "stream": "stdout",
       "text": [
        " 380\n",
        "training score 0.90625\n",
        "validation score 0.34375 \n",
        "\n",
        "iteration:"
       ]
      },
      {
       "output_type": "stream",
       "stream": "stdout",
       "text": [
        " 390\n",
        "training score 0.8875\n",
        "validation score 0.4375 \n",
        "\n",
        "iteration:"
       ]
      },
      {
       "output_type": "stream",
       "stream": "stdout",
       "text": [
        " 400\n",
        "training score 0.90625\n",
        "validation score 0.375 \n",
        "\n",
        "iteration:"
       ]
      },
      {
       "output_type": "stream",
       "stream": "stdout",
       "text": [
        " 410\n",
        "training score 0.925\n",
        "validation score 0.3125 \n",
        "\n",
        "iteration:"
       ]
      },
      {
       "output_type": "stream",
       "stream": "stdout",
       "text": [
        " 420\n",
        "training score 0.9375\n",
        "validation score 0.34375 \n",
        "\n",
        "iteration:"
       ]
      },
      {
       "output_type": "stream",
       "stream": "stdout",
       "text": [
        " 430\n",
        "training score 0.9125\n",
        "validation score 0.40625 \n",
        "\n",
        "iteration:"
       ]
      },
      {
       "output_type": "stream",
       "stream": "stdout",
       "text": [
        " 440\n",
        "training score 0.9375\n",
        "validation score 0.3125 \n",
        "\n",
        "iteration:"
       ]
      },
      {
       "output_type": "stream",
       "stream": "stdout",
       "text": [
        " 450\n",
        "training score 0.93125\n",
        "validation score 0.46875 \n",
        "\n",
        "iteration:"
       ]
      },
      {
       "output_type": "stream",
       "stream": "stdout",
       "text": [
        " 460\n",
        "training score 0.9375\n",
        "validation score 0.375 \n",
        "\n",
        "iteration:"
       ]
      },
      {
       "output_type": "stream",
       "stream": "stdout",
       "text": [
        " 470\n",
        "training score 0.95\n",
        "validation score 0.34375 \n",
        "\n",
        "iteration:"
       ]
      },
      {
       "output_type": "stream",
       "stream": "stdout",
       "text": [
        " 480\n",
        "training score 0.95\n",
        "validation score 0.34375 \n",
        "\n",
        "iteration:"
       ]
      },
      {
       "output_type": "stream",
       "stream": "stdout",
       "text": [
        " 490\n",
        "training score 0.925\n",
        "validation score 0.5 \n",
        "\n",
        "iteration:"
       ]
      },
      {
       "output_type": "stream",
       "stream": "stdout",
       "text": [
        " 500\n",
        "training score 0.94375\n",
        "validation score 0.40625 \n",
        "\n",
        "iteration:"
       ]
      },
      {
       "output_type": "stream",
       "stream": "stdout",
       "text": [
        " 510\n",
        "training score 0.95\n",
        "validation score 0.3125 \n",
        "\n",
        "iteration:"
       ]
      },
      {
       "output_type": "stream",
       "stream": "stdout",
       "text": [
        " 520\n",
        "training score 0.94375\n",
        "validation score 0.4375 \n",
        "\n",
        "iteration:"
       ]
      },
      {
       "output_type": "stream",
       "stream": "stdout",
       "text": [
        " 530\n",
        "training score 0.9625\n",
        "validation score 0.3125 \n",
        "\n",
        "iteration:"
       ]
      },
      {
       "output_type": "stream",
       "stream": "stdout",
       "text": [
        " 540\n",
        "training score 0.96875\n",
        "validation score 0.28125 \n",
        "\n"
       ]
      },
      {
       "metadata": {},
       "output_type": "pyout",
       "prompt_number": 3,
       "text": [
        "(OrderedDict([('loss', 0.20353801128782659), ('err', 0.20353801128782659), ('acc', 0.96875)]),\n",
        " OrderedDict([('loss', 0.96405073743818925), ('err', 0.96405073743818925), ('acc', 0.3125)]))"
       ]
      }
     ],
     "prompt_number": 3
    },
    {
     "cell_type": "code",
     "collapsed": false,
     "input": [
      "# mask = np.array([[1,0],[0,1],[1,1],[0,0]])\n",
      "# foo = np.array([[1,2],[3,4],[5,6],[7,8]])\n"
     ],
     "language": "python",
     "metadata": {},
     "outputs": [],
     "prompt_number": 20
    },
    {
     "cell_type": "code",
     "collapsed": false,
     "input": [],
     "language": "python",
     "metadata": {},
     "outputs": []
    }
   ],
   "metadata": {}
  }
 ]
}